{
 "cells": [
  {
   "cell_type": "markdown",
   "id": "4c7a57e8",
   "metadata": {},
   "source": [
    "**1) Which keyword is used to create a function? Create a function to return a list of odd numbers in the \n",
    "range of 1 to 25.**"
   ]
  },
  {
   "cell_type": "code",
   "execution_count": null,
   "id": "b71d7d93",
   "metadata": {},
   "outputs": [],
   "source": [
    "Def keyword is used to create a function"
   ]
  },
  {
   "cell_type": "code",
   "execution_count": 2,
   "id": "e21e94fe",
   "metadata": {},
   "outputs": [],
   "source": [
    "def get_odd_numbers():\n",
    "    odd_numbers = []\n",
    "    for num in range(1, 26):\n",
    "        if num % 2 != 0:\n",
    "            odd_numbers.append(num)\n",
    "    return odd_numbers"
   ]
  },
  {
   "cell_type": "code",
   "execution_count": 3,
   "id": "359eda25",
   "metadata": {},
   "outputs": [
    {
     "name": "stdout",
     "output_type": "stream",
     "text": [
      "[1, 3, 5, 7, 9, 11, 13, 15, 17, 19, 21, 23, 25]\n"
     ]
    }
   ],
   "source": [
    "result = get_odd_numbers()\n",
    "print(result)"
   ]
  },
  {
   "cell_type": "markdown",
   "id": "905fdaaf",
   "metadata": {},
   "source": [
    "**2) Why *args and **kwargs is used in some functions? Create a function each for *args and **kwargs to \n",
    "demonstrate their use**"
   ]
  },
  {
   "cell_type": "markdown",
   "id": "ccd45180",
   "metadata": {},
   "source": [
    "In Python, args and kwargs are used in function definitions to handle a variable number of arguments. They allow functions to accept any number of positional arguments (*args) and keyword arguments (kwargs) respectively, providing flexibility and versatility in function design."
   ]
  },
  {
   "cell_type": "code",
   "execution_count": 17,
   "id": "12f107d9",
   "metadata": {},
   "outputs": [],
   "source": [
    "#args\n",
    "def concatenate_strings(**args):\n",
    "    result=\" \"\n",
    "    for arg in args:\n",
    "        result += arg\n",
    "    return result"
   ]
  },
  {
   "cell_type": "code",
   "execution_count": null,
   "id": "e631aa44",
   "metadata": {},
   "outputs": [],
   "source": [
    "result1 = concatenate_strings(\"Hello\", \" \", \"World\")"
   ]
  },
  {
   "cell_type": "code",
   "execution_count": null,
   "id": "208c85b8",
   "metadata": {},
   "outputs": [],
   "source": [
    "print(result1)"
   ]
  },
  {
   "cell_type": "code",
   "execution_count": 21,
   "id": "5cd6d4cb",
   "metadata": {},
   "outputs": [
    {
     "name": "stdout",
     "output_type": "stream",
     "text": [
      "name: Aditya\n",
      "age: 26\n",
      "city: India\n",
      "name: babre\n",
      "occupation: Engineer\n"
     ]
    }
   ],
   "source": [
    "#kwargs\n",
    "def print_person_info(**kwargs):\n",
    "    for key, value in kwargs.items():\n",
    "        print(f\"{key}: {value}\")\n",
    "\n",
    "# Call the function with different keyword arguments\n",
    "print_person_info(name=\"Aditya\", age=26, city=\"India\")\n",
    "print_person_info(name=\"babre\", occupation=\"Engineer\")"
   ]
  },
  {
   "cell_type": "markdown",
   "id": "74ed3a11",
   "metadata": {},
   "source": [
    "By using *args and kwargs, you can create functions that are flexible and can handle different numbers of arguments, making them more adaptable to varying scenarios and input requirements."
   ]
  },
  {
   "cell_type": "markdown",
   "id": "1c4e32c2",
   "metadata": {},
   "source": [
    "**3) What is an iterator in python? Name the method used to initialise the iterator object and the method \n",
    "used for iteration. Use these methods to print the first five elements of the given list [2, 4, 6, 8, 10, 12, 14, 16, \n",
    "18, 20].**"
   ]
  },
  {
   "cell_type": "markdown",
   "id": "f8579136",
   "metadata": {},
   "source": [
    "In Python, an iterator provides a way to access the elements of a container sequentially without needing to know the underlying implementation.\n",
    "\n",
    "To initialize an iterator object, you can use the **iter()** method, which takes an iterable as an argument and returns an iterator object. To iterate over the elements, you can use the **next()** method on the iterator, which retrieves the next element in the sequence."
   ]
  },
  {
   "cell_type": "code",
   "execution_count": 28,
   "id": "c427a973",
   "metadata": {},
   "outputs": [
    {
     "name": "stdout",
     "output_type": "stream",
     "text": [
      "2\n",
      "4\n",
      "6\n",
      "8\n",
      "10\n"
     ]
    }
   ],
   "source": [
    "my_list = [2,4,6,8,10,12,14,16,18,20]\n",
    "my_iterator = iter(my_list)\n",
    "\n",
    "#print first five elements using next\n",
    "for i in range (5):\n",
    "    element = next(my_iterator)\n",
    "    print(element)"
   ]
  },
  {
   "cell_type": "markdown",
   "id": "b35516eb",
   "metadata": {},
   "source": [
    "**4) What is a generator function in python? Why yield keyword is used? Give an example of a generator \n",
    "function**"
   ]
  },
  {
   "cell_type": "markdown",
   "id": "e7394556",
   "metadata": {},
   "source": [
    "In Python, a generator function is a special type of function that returns an iterator (a generator) when called. It allows you to define an iterator in a more concise and efficient way compared to writing a custom iterator class.\n",
    "\n",
    "The yield keyword is used within the generator function to define the values to be yielded (returned) one at a time as the iterator is traversed."
   ]
  },
  {
   "cell_type": "code",
   "execution_count": 29,
   "id": "866c9614",
   "metadata": {},
   "outputs": [
    {
     "name": "stdout",
     "output_type": "stream",
     "text": [
      "0\n",
      "1\n",
      "1\n",
      "2\n",
      "3\n",
      "5\n",
      "8\n",
      "13\n",
      "21\n",
      "34\n"
     ]
    }
   ],
   "source": [
    "def fibonacci_generator():\n",
    "    a, b = 0, 1\n",
    "    while True:\n",
    "        yield a\n",
    "        a, b = b, a + b\n",
    "\n",
    "# Use the generator function to iterate and print the Fibonacci numbers\n",
    "fib_gen = fibonacci_generator()\n",
    "for _ in range(10):\n",
    "    print(next(fib_gen))"
   ]
  },
  {
   "cell_type": "markdown",
   "id": "dcd10f95",
   "metadata": {},
   "source": [
    "**5) Create a generator function for prime numbers less than 1000. Use the next() method to print the \n",
    "first 20 prime numbers.**"
   ]
  },
  {
   "cell_type": "code",
   "execution_count": 32,
   "id": "a8983298",
   "metadata": {},
   "outputs": [
    {
     "name": "stdout",
     "output_type": "stream",
     "text": [
      "2\n",
      "3\n",
      "5\n",
      "7\n",
      "11\n",
      "13\n",
      "17\n",
      "19\n",
      "23\n",
      "29\n",
      "31\n",
      "37\n",
      "41\n",
      "43\n",
      "47\n",
      "53\n",
      "59\n",
      "61\n",
      "67\n",
      "71\n"
     ]
    }
   ],
   "source": [
    "def prime_generator():\n",
    "    yield 2  # Yield the first prime number, 2\n",
    "    primes = [2]  # Maintain a list of prime numbers found so far\n",
    "    num = 3  # Start checking numbers from 3 onwards\n",
    "\n",
    "    while True:\n",
    "        is_prime = True\n",
    "        for prime in primes:\n",
    "            if prime * prime > num:  # Optimization: Stop checking if prime squared is greater than num\n",
    "                break\n",
    "            if num % prime == 0:  # If num is divisible by any prime, it's not a prime number\n",
    "                is_prime = False\n",
    "                break\n",
    "\n",
    "        if is_prime:\n",
    "            yield num  # Yield the prime number\n",
    "            primes.append(num)  # Add the prime number to the list of primes\n",
    "\n",
    "        num += 2  # Move to the next odd number\n",
    "\n",
    "# Create the prime number generator\n",
    "prime_gen = prime_generator()\n",
    "\n",
    "# Print the first 20 prime numbers using next()\n",
    "for _ in range(20):\n",
    "    prime_number = next(prime_gen)\n",
    "    print(prime_number)\n"
   ]
  },
  {
   "cell_type": "code",
   "execution_count": null,
   "id": "f48db235",
   "metadata": {},
   "outputs": [],
   "source": []
  },
  {
   "cell_type": "code",
   "execution_count": null,
   "id": "90c5ee51",
   "metadata": {},
   "outputs": [],
   "source": []
  }
 ],
 "metadata": {
  "kernelspec": {
   "display_name": "Python 3 (ipykernel)",
   "language": "python",
   "name": "python3"
  },
  "language_info": {
   "codemirror_mode": {
    "name": "ipython",
    "version": 3
   },
   "file_extension": ".py",
   "mimetype": "text/x-python",
   "name": "python",
   "nbconvert_exporter": "python",
   "pygments_lexer": "ipython3",
   "version": "3.9.12"
  }
 },
 "nbformat": 4,
 "nbformat_minor": 5
}
