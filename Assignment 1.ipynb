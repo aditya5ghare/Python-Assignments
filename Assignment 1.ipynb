{
 "cells": [
  {
   "cell_type": "markdown",
   "id": "50961860",
   "metadata": {},
   "source": [
    "#### 1) Chracteristics of Tuples:-"
   ]
  },
  {
   "cell_type": "markdown",
   "id": "ca7cf188",
   "metadata": {},
   "source": [
    "Ordered:   Tuples maintain the order of elements, meaning the position of each element within the tuple is significant.\n",
    "\n",
    "Immutable: Tuples are usually immutable, which means their elements cannot be modified once they are created. However, this    characteristic may vary depending on the programming language you are using.\n",
    "\n",
    "Heterogeneous: Tuples can contain elements of different data types. For example, a tuple can include a combination of integers, strings, booleans, or other data types.\n",
    "\n",
    "Fixed size: Tuples have a fixed size, meaning the number of elements in a tuple is determined at the time of creation and cannot be changed. If you need to add or remove elements, you would need to create a new tuple.\n",
    "\n",
    "Accessed by index: Elements within a tuple are accessed using their index positions. The first element is typically at index 0, the second at index 1, and so on.\n",
    "\n",
    "Suitable for grouping related data: Tuples are often used to group together related pieces of data. For example, you might use a tuple to represent a person's name, age, and address.\n",
    "\n",
    "Iteration: Tuples can be iterated over using loops or other iteration mechanisms, allowing you to process each element sequentially.\n",
    "\n",
    "Comparison and sorting: Tuples can be compared and sorted based on their elements. The comparison is usually done by comparing the elements in order."
   ]
  },
  {
   "cell_type": "markdown",
   "id": "9e7bddad",
   "metadata": {},
   "source": [
    "#### 2) What are the two tuple methods in python? Give an example of each method. Give a reason why tuples have only two in-built methods as compared to Lists."
   ]
  },
  {
   "cell_type": "markdown",
   "id": "e6079647",
   "metadata": {},
   "source": [
    "As Tuple is immutable however they cannot be modified once created. Therefore, there are no specific tuple methods for \n",
    "modifying or adding elements.\n",
    "\n",
    "However, tuples do have two built-in methods for performing operations or retrieving information from tuples. \n",
    "These methods are:\n",
    "count() - method returns the number of occurrences of a specified element in a tuple. It takes a single argument, \n",
    "          which is the value you want to count within the tuple.\n",
    "    \n",
    "index() - The index() method returns the index of the first occurrence of a specified element in a tuple. It takes a \n",
    "          single argument, which is the value you want to find within the tuple.\n",
    "    \n",
    "The main reason tuples have fewer built-in methods compared to lists is due to their immutability.Tuples are designed \n",
    "to represent a collection of items that are meant to be immutable and have a fixed structure.\n",
    "This immutability allows tuples where you want to ensure the data remains unchanged. \n",
    "\n",
    "On the other hand, lists are mutable and dynamic, meaning you can add, remove, or modify elements after creation. \n",
    "Lists have a larger number of built-in methods to support their mutable nature and provide more flexibility for modifying, \n",
    "rearranging, or accessing elements.\n",
    "\n",
    "Some of the common list methods include append(), extend(), insert(), remove(), pop(), sort(), and reverse(). These methods \n",
    "are not applicable to tuples because they would violate the immutability of tuples.\n",
    "\n"
   ]
  },
  {
   "cell_type": "markdown",
   "id": "6eff12bb",
   "metadata": {},
   "source": [
    "#### 3) Which collection datatypes in python do not allow duplicate items? Write a code using a set to remove duplicates from the given list."
   ]
  },
  {
   "cell_type": "markdown",
   "id": "c9353013",
   "metadata": {},
   "source": [
    "Sets are unordered collections of unique elements. They automatically eliminate duplicates, meaning that each element in\n",
    "a set is unique."
   ]
  },
  {
   "cell_type": "code",
   "execution_count": 5,
   "id": "ec447bd3",
   "metadata": {},
   "outputs": [
    {
     "data": {
      "text/plain": [
       "[1, 2, 3, 4]"
      ]
     },
     "execution_count": 5,
     "metadata": {},
     "output_type": "execute_result"
    }
   ],
   "source": [
    "List = [1, 1, 1, 2, 1, 3, 1, 4, 2, 1, 2, 2, 2, 3, 2, 4, 3, 1, 3, 2, 3, 3, 3, 4, 4, 1, 4, 2, 4, 3, 4, 4]\n",
    "my_list = list(set(List))\n",
    "my_list"
   ]
  },
  {
   "cell_type": "markdown",
   "id": "f015780c",
   "metadata": {},
   "source": [
    "In the above expression set has eliminated duplicates values. "
   ]
  },
  {
   "cell_type": "markdown",
   "id": "b86f09dc",
   "metadata": {},
   "source": [
    "#### 4) Explain the difference between the union() and update() methods for a set. Give an example of each method."
   ]
  },
  {
   "cell_type": "markdown",
   "id": "f025d471",
   "metadata": {},
   "source": [
    "In Python, the union() and update() methods are used to combine sets.\n",
    "\n",
    "1) Union Method:-\n",
    "The union() method returns a new set that contains all the unique elements from both sets. It does not modify the original set; instead, it creates and returns a new set as the result of the union operation.\n",
    "\n",
    "2) Update Method:-\n",
    "The update() method modifies the original set by adding elements from one or more sets into it. It updates the set in-place, meaning it directly modifies the original set rather than creating a new one.\n"
   ]
  },
  {
   "cell_type": "code",
   "execution_count": 10,
   "id": "4e9796ae",
   "metadata": {},
   "outputs": [
    {
     "name": "stdout",
     "output_type": "stream",
     "text": [
      "{1, 2, 3, 4, 5}\n"
     ]
    }
   ],
   "source": [
    "#Ex:- Union Method-\n",
    "set1 = {1, 2, 3}\n",
    "set2 = {3, 4, 5}\n",
    "union_set = set1.union(set2)\n",
    "print(union_set)"
   ]
  },
  {
   "cell_type": "code",
   "execution_count": 8,
   "id": "1483f9ed",
   "metadata": {},
   "outputs": [
    {
     "name": "stdout",
     "output_type": "stream",
     "text": [
      "{1, 2, 3, 4, 5}\n"
     ]
    }
   ],
   "source": [
    "#Ex:- Update Method-\n",
    "set1 = {1, 2, 3}\n",
    "set2 = {3, 4, 5}\n",
    "set1.update(set2)\n",
    "print(set1)"
   ]
  },
  {
   "cell_type": "markdown",
   "id": "3e0c0021",
   "metadata": {},
   "source": [
    "#### 5) What is a dictionary? Give an example. Also, state whether a dictionary is ordered or unordered."
   ]
  },
  {
   "cell_type": "code",
   "execution_count": null,
   "id": "0f6bf969",
   "metadata": {},
   "outputs": [],
   "source": [
    "A dictionary in Python is a collection data type that stores a collection of key-value pairs. Each key is unique \n",
    "within the dictionary, and it maps to a corresponding value.\n",
    "\n",
    "Dictionaries in Python are unordered"
   ]
  },
  {
   "cell_type": "code",
   "execution_count": 13,
   "id": "f9cbbd6a",
   "metadata": {},
   "outputs": [
    {
     "data": {
      "text/plain": [
       "{'Name': 'Aditya', 'Address': 'Nagpur', 'Age': 27, 'Occupation': 'Engineer'}"
      ]
     },
     "execution_count": 13,
     "metadata": {},
     "output_type": "execute_result"
    }
   ],
   "source": [
    "# Ex:-\n",
    "Intro = {\n",
    "    \n",
    "    'Name':'Aditya',\n",
    "    'Address':'Nagpur',\n",
    "    'Age':27,\n",
    "    'Occupation':'Engineer'\n",
    "}\n",
    "Intro"
   ]
  },
  {
   "cell_type": "markdown",
   "id": "1b56334b",
   "metadata": {},
   "source": [
    "#### 6) Can we create a nested dictionary? If so, please give an example by creating a simple one-level nested dictionary"
   ]
  },
  {
   "cell_type": "code",
   "execution_count": null,
   "id": "e28914a2",
   "metadata": {},
   "outputs": [],
   "source": [
    "Yes, it is possible to create a nested dictionary in Python. A nested dictionary is a dictionary that contains other \n",
    "dictionaries as values. This allows for a hierarchical structure where you can access and store data in multiple levels."
   ]
  },
  {
   "cell_type": "code",
   "execution_count": 23,
   "id": "67caa9fd",
   "metadata": {},
   "outputs": [
    {
     "data": {
      "text/plain": [
       "{'Name': 'Aditya',\n",
       " 'Age': 30,\n",
       " 'City': 'Nagpur',\n",
       " 'grades': {'Maths': 90, 'Science': 40, 'English': 80}}"
      ]
     },
     "execution_count": 23,
     "metadata": {},
     "output_type": "execute_result"
    }
   ],
   "source": [
    "#Ex:-\n",
    "student = {\n",
    "    'Name':'Aditya',\n",
    "    'Age' : 30,\n",
    "    'City': 'Nagpur',\n",
    "    \n",
    "    'grades' : {\n",
    "        'Maths':90,\n",
    "        'Science':40,\n",
    "        'English':80\n",
    "    }\n",
    "}\n",
    "student"
   ]
  },
  {
   "cell_type": "markdown",
   "id": "0e02a225",
   "metadata": {},
   "source": [
    "#### 7) Using setdefault () method, create key named topics in the given dictionary and also add the value of  the key as this list ['Python', 'Machine Learning’, 'Deep Learning'"
   ]
  },
  {
   "cell_type": "code",
   "execution_count": 26,
   "id": "d554c6a3",
   "metadata": {},
   "outputs": [
    {
     "name": "stdout",
     "output_type": "stream",
     "text": [
      "{'language': 'Python', 'course': 'Data Science Masters', 'topics': ['Python', 'Machine Learning', 'Deep Learning']}\n"
     ]
    }
   ],
   "source": [
    "# Ex:-\n",
    "\n",
    "dict1 = {\n",
    "    'language' : 'Python', \n",
    "    'course': 'Data Science Masters'\n",
    "}\n",
    "\n",
    "list1 = ['Python', 'Machine Learning','Deep Learning']\n",
    "dict1.setdefault('topics',list1)\n",
    "print(dict1)"
   ]
  },
  {
   "cell_type": "markdown",
   "id": "ad042da2",
   "metadata": {},
   "source": [
    "#### 8) What are the three view objects in dictionaries? Use the three in-built methods in python to display these three view objects for the given dictionary"
   ]
  },
  {
   "cell_type": "markdown",
   "id": "8e0be121",
   "metadata": {},
   "source": [
    "In Python dictionaries, there are three view objects that provide dynamic views into the dictionary's keys, values,\n",
    "and key-value pairs. These view objects are:\n",
    "\n",
    "dict.keys(): This method returns a view object that contains the keys of the dictionary.\n",
    "\n",
    "dict.values(): This method returns a view object that contains the values of the dictionary.\n",
    "\n",
    "dict.items(): This method returns a view object that contains the key-value pairs of the dictionary as tuples."
   ]
  },
  {
   "cell_type": "code",
   "execution_count": 28,
   "id": "4e0eb62c",
   "metadata": {},
   "outputs": [
    {
     "name": "stdout",
     "output_type": "stream",
     "text": [
      "dict_keys(['Sport', 'Teams'])\n",
      "dict_values(['Cricket', ['India', 'Australia', 'England', 'South Africa', 'Sri Lanka', 'New Zealand']])\n",
      "<built-in method items of dict object at 0x0000021D895AE6C0>\n"
     ]
    }
   ],
   "source": [
    "#Ex:-\n",
    "dict1 = {'Sport': 'Cricket' , 'Teams': ['India', 'Australia', 'England', 'South Africa', 'Sri Lanka', 'New Zealand']}\n",
    "view_keys = dict1.keys()\n",
    "view_values = dict1.values()\n",
    "view_items = dict1.items\n",
    "\n",
    "print(view_keys)\n",
    "print(view_values)\n",
    "print(view_items)"
   ]
  },
  {
   "cell_type": "code",
   "execution_count": null,
   "id": "bea1f5ae",
   "metadata": {},
   "outputs": [],
   "source": []
  },
  {
   "cell_type": "code",
   "execution_count": null,
   "id": "cc1b5b61",
   "metadata": {},
   "outputs": [],
   "source": []
  },
  {
   "cell_type": "code",
   "execution_count": null,
   "id": "ec836c20",
   "metadata": {},
   "outputs": [],
   "source": []
  },
  {
   "cell_type": "code",
   "execution_count": null,
   "id": "4940d112",
   "metadata": {},
   "outputs": [],
   "source": []
  },
  {
   "cell_type": "code",
   "execution_count": null,
   "id": "2ddd30ff",
   "metadata": {},
   "outputs": [],
   "source": []
  }
 ],
 "metadata": {
  "kernelspec": {
   "display_name": "Python 3 (ipykernel)",
   "language": "python",
   "name": "python3"
  },
  "language_info": {
   "codemirror_mode": {
    "name": "ipython",
    "version": 3
   },
   "file_extension": ".py",
   "mimetype": "text/x-python",
   "name": "python",
   "nbconvert_exporter": "python",
   "pygments_lexer": "ipython3",
   "version": "3.9.12"
  }
 },
 "nbformat": 4,
 "nbformat_minor": 5
}
